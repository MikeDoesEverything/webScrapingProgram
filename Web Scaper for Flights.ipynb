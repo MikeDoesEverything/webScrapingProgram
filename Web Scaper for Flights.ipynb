{
 "cells": [
  {
   "cell_type": "code",
   "execution_count": 1,
   "id": "6d5a8f2f",
   "metadata": {},
   "outputs": [],
   "source": [
    "import pandas as pd\n",
    "from bs4 import BeautifulSoup\n",
    "import requests\n",
    "import smtplib\n",
    "import time\n",
    "import datetime"
   ]
  },
  {
   "cell_type": "code",
   "execution_count": 2,
   "id": "e83366ac",
   "metadata": {},
   "outputs": [
    {
     "name": "stdout",
     "output_type": "stream",
     "text": [
      "\n",
      "             Acer Aspire 3...\n",
      "            \n",
      "\n",
      "            $436.29\n",
      "           \n"
     ]
    }
   ],
   "source": [
    "# connect to website\n",
    "URL = \"https://webscraper.io/test-sites/e-commerce/allinone\"\n",
    "        \n",
    "headers = {\"User-Agent\": \"Mozilla/5.0 (Windows NT 10.0; Win64; x64; rv:123.0) Gecko/20100101 Firefox/123.0\" }   \n",
    "    \n",
    "page = requests.get(URL, headers=headers) \n",
    "\n",
    "soup1 = BeautifulSoup(page.content, \"html.parser\")\n",
    "\n",
    "soup2 = BeautifulSoup(soup1.prettify(), \"html.parser\")\n",
    "\n",
    "title = soup2.find(class_=\"title\").get_text()\n",
    "price = soup2.find(class_=\"price\").get_text()\n",
    "\n",
    "print(title)\n",
    "print(price)\n",
    "\n",
    "\n",
    "\n",
    "    \n",
    "\n"
   ]
  },
  {
   "cell_type": "code",
   "execution_count": 3,
   "id": "2095fe18",
   "metadata": {},
   "outputs": [
    {
     "name": "stdout",
     "output_type": "stream",
     "text": [
      "Acer Aspire 3...\n",
      "436.29\n"
     ]
    }
   ],
   "source": [
    "title = title.strip()\n",
    "price = price.strip()[1:]\n",
    "print(title)\n",
    "print(price)"
   ]
  },
  {
   "cell_type": "code",
   "execution_count": 4,
   "id": "39dbaf51",
   "metadata": {},
   "outputs": [
    {
     "name": "stdout",
     "output_type": "stream",
     "text": [
      "2024-03-11\n"
     ]
    }
   ],
   "source": [
    "import datetime\n",
    "date = datetime.date.today()\n",
    "print(date)"
   ]
  },
  {
   "cell_type": "code",
   "execution_count": 5,
   "id": "aaa4cc10",
   "metadata": {},
   "outputs": [],
   "source": [
    "import csv\n",
    "\n",
    "header = [\"Title\", \"Price\", \"Date\"]\n",
    "data = [title, price, date]\n",
    "\n",
    "# with open(\"webScraper.csv\", \"w\", newline=\"\", encoding=\"UTF8\") as f:\n",
    "#     writer= csv.writer(f)\n",
    "#     writer.writerow(header)\n",
    "#     writer.writerow(data)"
   ]
  },
  {
   "cell_type": "code",
   "execution_count": 6,
   "id": "1e498d9c",
   "metadata": {},
   "outputs": [
    {
     "name": "stdout",
     "output_type": "stream",
     "text": [
      "                title    price        date\n",
      "0   Toshiba Porteg...  1203.41  2024-03-07\n",
      "1   Lenovo V110-15...   321.94  2024-03-08\n",
      "2   Lenovo V110-15...   321.94  2024-03-08\n",
      "3   Lenovo V110-15...   321.94  2024-03-08\n",
      "4   Lenovo V110-15...   321.94  2024-03-08\n",
      "5   Lenovo V110-15...   321.94  2024-03-08\n",
      "6   Lenovo V110-15...   321.94  2024-03-08\n",
      "7   Lenovo V110-15...   321.94  2024-03-08\n",
      "8   Lenovo V110-15...   321.94  2024-03-08\n",
      "9   Lenovo V110-15...   321.94  2024-03-08\n",
      "10  Lenovo V110-15...   321.94  2024-03-08\n",
      "11            Nokia X   109.99  2024-03-08\n",
      "12            Nokia X   109.99  2024-03-08\n",
      "13            Nokia X   109.99  2024-03-08\n",
      "14            Nokia X   109.99  2024-03-08\n"
     ]
    }
   ],
   "source": [
    "import pandas as pd\n",
    "df = pd.read_csv(r'C:\\Users\\michael\\VSC projects\\Web-scraping-flights\\webScraper.csv')\n",
    "print(df)"
   ]
  },
  {
   "cell_type": "code",
   "execution_count": 7,
   "id": "0a85f454",
   "metadata": {},
   "outputs": [],
   "source": [
    "#appending data\n",
    "import csv\n",
    "data = [title, price, date]\n",
    "\n",
    "with open(\"webScraper.csv\", \"a+\", newline=\"\", encoding=\"UTF8\") as f:\n",
    "    writer= csv.writer(f)\n",
    "    writer.writerow(data)"
   ]
  },
  {
   "cell_type": "code",
   "execution_count": 16,
   "id": "3460d362",
   "metadata": {},
   "outputs": [],
   "source": [
    "def check_price():\n",
    "    URL = \"https://webscraper.io/test-sites/e-commerce/allinone\"\n",
    "    \n",
    "    headers = {\"User-Agent\": \"Mozilla/5.0 (Windows NT 10.0; Win64; x64; rv:123.0) Gecko/20100101 Firefox/123.0\" } \n",
    "    \n",
    "    page = requests.get(URL, headers=headers)\n",
    "    \n",
    "    soup1 = BeautifulSoup(page.content, \"html.parser\")\n",
    "    \n",
    "    soup2 = BeautifulSoup(soup1.prettify(), \"html.parser\")\n",
    "    \n",
    "    title = soup2.find(class_=\"title\").get_text()\n",
    "    price = soup2.find(class_=\"price\").get_text()\n",
    "    \n",
    "    title = title.strip()\n",
    "    price = price.strip()[1:]\n",
    "    \n",
    "    import datetime\n",
    "    date = datetime.date.today()\n",
    "    \n",
    "    import csv\n",
    "    header = [\"Title\", \"Price\", \"Date\"]\n",
    "    row = [title, price, date]\n",
    "    \n",
    "    with open(\"webScraper.csv\", \"a+\", newline=\"\", encoding=\"UTF8\") as f:\n",
    "        writer = csv.writer(f)\n",
    "        writer.writerow(data)\n",
    "        \n",
    "    if(float(price) < 150):\n",
    "        send_mail()"
   ]
  },
  {
   "cell_type": "code",
   "execution_count": 17,
   "id": "e758b9e7",
   "metadata": {},
   "outputs": [
    {
     "ename": "AttributeError",
     "evalue": "module 'smtplib' has no attribute 'SMTP_SML'",
     "output_type": "error",
     "traceback": [
      "\u001b[1;31m---------------------------------------------------------------------------\u001b[0m",
      "\u001b[1;31mAttributeError\u001b[0m                            Traceback (most recent call last)",
      "\u001b[1;32m~\\AppData\\Local\\Temp\\ipykernel_21620\\1780465071.py\u001b[0m in \u001b[0;36m<module>\u001b[1;34m\u001b[0m\n\u001b[0;32m      1\u001b[0m \u001b[1;32mwhile\u001b[0m\u001b[1;33m(\u001b[0m\u001b[1;32mTrue\u001b[0m\u001b[1;33m)\u001b[0m\u001b[1;33m:\u001b[0m\u001b[1;33m\u001b[0m\u001b[1;33m\u001b[0m\u001b[0m\n\u001b[1;32m----> 2\u001b[1;33m     \u001b[0mcheck_price\u001b[0m\u001b[1;33m(\u001b[0m\u001b[1;33m)\u001b[0m\u001b[1;33m\u001b[0m\u001b[1;33m\u001b[0m\u001b[0m\n\u001b[0m\u001b[0;32m      3\u001b[0m     \u001b[0mtime\u001b[0m\u001b[1;33m.\u001b[0m\u001b[0msleep\u001b[0m\u001b[1;33m(\u001b[0m\u001b[1;36m10\u001b[0m\u001b[1;33m)\u001b[0m\u001b[1;33m\u001b[0m\u001b[1;33m\u001b[0m\u001b[0m\n",
      "\u001b[1;32m~\\AppData\\Local\\Temp\\ipykernel_21620\\1651345253.py\u001b[0m in \u001b[0;36mcheck_price\u001b[1;34m()\u001b[0m\n\u001b[0;32m     28\u001b[0m \u001b[1;33m\u001b[0m\u001b[0m\n\u001b[0;32m     29\u001b[0m     \u001b[1;32mif\u001b[0m\u001b[1;33m(\u001b[0m\u001b[0mfloat\u001b[0m\u001b[1;33m(\u001b[0m\u001b[0mprice\u001b[0m\u001b[1;33m)\u001b[0m \u001b[1;33m<\u001b[0m \u001b[1;36m10000\u001b[0m\u001b[1;33m)\u001b[0m\u001b[1;33m:\u001b[0m\u001b[1;33m\u001b[0m\u001b[1;33m\u001b[0m\u001b[0m\n\u001b[1;32m---> 30\u001b[1;33m         \u001b[0msend_mail\u001b[0m\u001b[1;33m(\u001b[0m\u001b[1;33m)\u001b[0m\u001b[1;33m\u001b[0m\u001b[1;33m\u001b[0m\u001b[0m\n\u001b[0m",
      "\u001b[1;32m~\\AppData\\Local\\Temp\\ipykernel_21620\\533044125.py\u001b[0m in \u001b[0;36msend_mail\u001b[1;34m()\u001b[0m\n\u001b[0;32m      1\u001b[0m \u001b[1;32mdef\u001b[0m \u001b[0msend_mail\u001b[0m\u001b[1;33m(\u001b[0m\u001b[1;33m)\u001b[0m\u001b[1;33m:\u001b[0m\u001b[1;33m\u001b[0m\u001b[1;33m\u001b[0m\u001b[0m\n\u001b[1;32m----> 2\u001b[1;33m     \u001b[0mserver\u001b[0m \u001b[1;33m=\u001b[0m \u001b[0msmtplib\u001b[0m\u001b[1;33m.\u001b[0m\u001b[0mSMTP_SML\u001b[0m\u001b[1;33m(\u001b[0m\u001b[1;34m\"smtp.gmail.com\"\u001b[0m\u001b[1;33m,\u001b[0m \u001b[1;36m587\u001b[0m\u001b[1;33m)\u001b[0m\u001b[1;33m\u001b[0m\u001b[1;33m\u001b[0m\u001b[0m\n\u001b[0m\u001b[0;32m      3\u001b[0m     \u001b[0mserver\u001b[0m\u001b[1;33m.\u001b[0m\u001b[0mehlo\u001b[0m\u001b[1;33m(\u001b[0m\u001b[1;33m)\u001b[0m\u001b[1;33m\u001b[0m\u001b[1;33m\u001b[0m\u001b[0m\n\u001b[0;32m      4\u001b[0m     \u001b[0mserver\u001b[0m\u001b[1;33m.\u001b[0m\u001b[0mstartttls\u001b[0m\u001b[1;33m(\u001b[0m\u001b[1;33m)\u001b[0m\u001b[1;33m\u001b[0m\u001b[1;33m\u001b[0m\u001b[0m\n\u001b[0;32m      5\u001b[0m     \u001b[0mserver\u001b[0m\u001b[1;33m.\u001b[0m\u001b[0mehlo\u001b[0m\u001b[1;33m(\u001b[0m\u001b[1;33m)\u001b[0m\u001b[1;33m\u001b[0m\u001b[1;33m\u001b[0m\u001b[0m\n",
      "\u001b[1;31mAttributeError\u001b[0m: module 'smtplib' has no attribute 'SMTP_SML'"
     ]
    }
   ],
   "source": [
    "while(True):\n",
    "    check_price()\n",
    "    time.sleep(10)"
   ]
  },
  {
   "cell_type": "code",
   "execution_count": 41,
   "id": "f7bf54a3",
   "metadata": {},
   "outputs": [
    {
     "name": "stdout",
     "output_type": "stream",
     "text": [
      "                title    price        date\n",
      "0   Toshiba Porteg...  1203.41  2024-03-07\n",
      "1   Lenovo V110-15...   321.94  2024-03-08\n",
      "2   Lenovo V110-15...   321.94  2024-03-08\n",
      "3   Lenovo V110-15...   321.94  2024-03-08\n",
      "4   Lenovo V110-15...   321.94  2024-03-08\n",
      "5   Lenovo V110-15...   321.94  2024-03-08\n",
      "6   Lenovo V110-15...   321.94  2024-03-08\n",
      "7   Lenovo V110-15...   321.94  2024-03-08\n",
      "8   Lenovo V110-15...   321.94  2024-03-08\n",
      "9   Lenovo V110-15...   321.94  2024-03-08\n",
      "10  Lenovo V110-15...   321.94  2024-03-08\n",
      "11            Nokia X   109.99  2024-03-08\n",
      "12            Nokia X   109.99  2024-03-08\n",
      "13            Nokia X   109.99  2024-03-08\n",
      "14            Nokia X   109.99  2024-03-08\n"
     ]
    }
   ],
   "source": [
    "import pandas as pd\n",
    "df = pd.read_csv(r'C:\\Users\\michael\\VSC projects\\Web-scraping-flights\\webScraper.csv')\n",
    "print(df)"
   ]
  },
  {
   "cell_type": "code",
   "execution_count": 18,
   "id": "bfb3cbd3",
   "metadata": {},
   "outputs": [],
   "source": [
    "import os\n",
    "from dotenv import load_dotenv\n",
    "import smtplib\n",
    "\n",
    "load_dotenv()\n",
    "\n",
    "def send_mail():\n",
    "\n",
    "    email_address = os.getenv(\"EMAIL\")\n",
    "    password = os.getenv(\"PASSWORD\")\n",
    "    generated_password = os.getenv(\"GENERATED_PASSWORD\")\n",
    "\n",
    "    smtp_server = 'smtp.gmail.com'\n",
    "    smtp_port = 587\n",
    "\n",
    "    server = smtplib.SMTP(smtp_server, smtp_port)\n",
    "    \n",
    "    server.starttls()\n",
    "    \n",
    "    server.login(email_address, generated_password)\n",
    "    \n",
    "    subject = \"Price has dropped below 150 pounds\"\n",
    "    message = \"Get your flights now\"\n",
    "    msg = f\"Subject: {subject}\\n\\n{message}\"\n",
    "\n",
    "    server.sendmail(email_address, email_address, msg)\n",
    "    \n",
    "    server.quit()\n",
    "\n",
    "send_mail()"
   ]
  },
  {
   "cell_type": "code",
   "execution_count": null,
   "id": "b1992ca1",
   "metadata": {},
   "outputs": [],
   "source": []
  }
 ],
 "metadata": {
  "kernelspec": {
   "display_name": "webScraperFlights",
   "language": "python",
   "name": "webscraperflights"
  },
  "language_info": {
   "codemirror_mode": {
    "name": "ipython",
    "version": 3
   },
   "file_extension": ".py",
   "mimetype": "text/x-python",
   "name": "python",
   "nbconvert_exporter": "python",
   "pygments_lexer": "ipython3",
   "version": "3.9.13"
  }
 },
 "nbformat": 4,
 "nbformat_minor": 5
}
